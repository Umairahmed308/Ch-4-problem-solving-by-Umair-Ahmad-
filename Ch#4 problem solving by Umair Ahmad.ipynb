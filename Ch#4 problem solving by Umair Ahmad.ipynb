{
 "cells": [
  {
   "cell_type": "code",
   "execution_count": 2,
   "metadata": {},
   "outputs": [
    {
     "name": "stdout",
     "output_type": "stream",
     "text": [
      "Seekh kabab\n",
      "Seekh Kabab is my favourite one.\n",
      "Fajita\n",
      "Fajita is my favourite one.\n",
      "Tikka Boti\n",
      "Tikka Boti is my favourite one.\n",
      "Seekh Kabab is my favourite pizza because it's so yummy. I really love to eat pizza.\n"
     ]
    }
   ],
   "source": [
    "#4.1\n",
    "Umair_favourite_pizza=['Seekh kabab','Fajita','Tikka Boti']\n",
    "for pizza in Umair_favourite_pizza:\n",
    "    print(pizza)\n",
    "    print(pizza.title()+\" is my favourite one.\")\n",
    "print(Umair_favourite_pizza[0].title()+ \" is my favourite pizza because it's so yummy. I really love to eat pizza.\")"
   ]
  },
  {
   "cell_type": "code",
   "execution_count": 2,
   "metadata": {},
   "outputs": [
    {
     "name": "stdout",
     "output_type": "stream",
     "text": [
      "[1, 8, 27, 64, 125, 216, 343, 512, 729, 1000]\n"
     ]
    }
   ],
   "source": [
    "#4.9\n",
    "cube=[value**3 for value in range(1,11)]\n",
    "print(cube)"
   ]
  }
 ],
 "metadata": {
  "interpreter": {
   "hash": "9bf2ca0f4a7adc3ce2f237ca763c1538d3ef289a4e7face3612a01cdae9f6807"
  },
  "kernelspec": {
   "display_name": "Python 3.10.4 64-bit",
   "language": "python",
   "name": "python3"
  },
  "language_info": {
   "codemirror_mode": {
    "name": "ipython",
    "version": 3
   },
   "file_extension": ".py",
   "mimetype": "text/x-python",
   "name": "python",
   "nbconvert_exporter": "python",
   "pygments_lexer": "ipython3",
   "version": "3.10.4"
  },
  "orig_nbformat": 4
 },
 "nbformat": 4,
 "nbformat_minor": 2
}
